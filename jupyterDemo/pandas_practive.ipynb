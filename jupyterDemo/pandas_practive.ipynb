{
 "cells": [
  {
   "cell_type": "code",
   "execution_count": 1,
   "id": "637bf6d2-63ae-4e17-87e2-ae2bffd432f8",
   "metadata": {},
   "outputs": [],
   "source": [
    "import numpy as np\n",
    "import pandas as pd"
   ]
  },
  {
   "cell_type": "code",
   "execution_count": 3,
   "id": "985ac47a-eea9-44d3-8350-0447ed77c21f",
   "metadata": {},
   "outputs": [
    {
     "data": {
      "text/plain": [
       "0    1.0\n",
       "1    3.0\n",
       "2    5.0\n",
       "3    NaN\n",
       "4    6.0\n",
       "5    8.0\n",
       "dtype: float64"
      ]
     },
     "execution_count": 3,
     "metadata": {},
     "output_type": "execute_result"
    }
   ],
   "source": [
    "s=pd.Series([1,3,5,np.nan,6,8])\n",
    "s"
   ]
  },
  {
   "cell_type": "code",
   "execution_count": 5,
   "id": "1b1f0805-0552-40f4-92f6-68beff930041",
   "metadata": {},
   "outputs": [],
   "source": [
    "dates=pd.date_range('20130101',periods=6)"
   ]
  },
  {
   "cell_type": "code",
   "execution_count": 6,
   "id": "8b1a316b-34ca-437a-aa9c-9962070a78c5",
   "metadata": {},
   "outputs": [
    {
     "data": {
      "text/plain": [
       "DatetimeIndex(['2013-01-01', '2013-01-02', '2013-01-03', '2013-01-04',\n",
       "               '2013-01-05', '2013-01-06'],\n",
       "              dtype='datetime64[ns]', freq='D')"
      ]
     },
     "execution_count": 6,
     "metadata": {},
     "output_type": "execute_result"
    }
   ],
   "source": [
    "dates"
   ]
  },
  {
   "cell_type": "code",
   "execution_count": 10,
   "id": "179caae3-9842-4657-a26c-c8a50a47ed17",
   "metadata": {},
   "outputs": [],
   "source": [
    "df=pd.DataFrame(np.random.randn(6,4),index=dates,columns=list('ABCD'))"
   ]
  },
  {
   "cell_type": "code",
   "execution_count": 11,
   "id": "9ece88d2-ebb9-4f76-8327-fe7d16b32fe4",
   "metadata": {},
   "outputs": [
    {
     "data": {
      "text/html": [
       "<div>\n",
       "<style scoped>\n",
       "    .dataframe tbody tr th:only-of-type {\n",
       "        vertical-align: middle;\n",
       "    }\n",
       "\n",
       "    .dataframe tbody tr th {\n",
       "        vertical-align: top;\n",
       "    }\n",
       "\n",
       "    .dataframe thead th {\n",
       "        text-align: right;\n",
       "    }\n",
       "</style>\n",
       "<table border=\"1\" class=\"dataframe\">\n",
       "  <thead>\n",
       "    <tr style=\"text-align: right;\">\n",
       "      <th></th>\n",
       "      <th>A</th>\n",
       "      <th>B</th>\n",
       "      <th>C</th>\n",
       "      <th>D</th>\n",
       "    </tr>\n",
       "  </thead>\n",
       "  <tbody>\n",
       "    <tr>\n",
       "      <th>2013-01-01</th>\n",
       "      <td>1.753379</td>\n",
       "      <td>-0.392738</td>\n",
       "      <td>0.668950</td>\n",
       "      <td>0.499004</td>\n",
       "    </tr>\n",
       "    <tr>\n",
       "      <th>2013-01-02</th>\n",
       "      <td>0.471725</td>\n",
       "      <td>1.066724</td>\n",
       "      <td>0.429891</td>\n",
       "      <td>2.585379</td>\n",
       "    </tr>\n",
       "    <tr>\n",
       "      <th>2013-01-03</th>\n",
       "      <td>0.758044</td>\n",
       "      <td>-0.287077</td>\n",
       "      <td>0.092497</td>\n",
       "      <td>-1.147985</td>\n",
       "    </tr>\n",
       "    <tr>\n",
       "      <th>2013-01-04</th>\n",
       "      <td>-0.691199</td>\n",
       "      <td>0.135198</td>\n",
       "      <td>-3.119589</td>\n",
       "      <td>2.372902</td>\n",
       "    </tr>\n",
       "    <tr>\n",
       "      <th>2013-01-05</th>\n",
       "      <td>-1.668033</td>\n",
       "      <td>1.294660</td>\n",
       "      <td>0.778939</td>\n",
       "      <td>0.606872</td>\n",
       "    </tr>\n",
       "    <tr>\n",
       "      <th>2013-01-06</th>\n",
       "      <td>0.236205</td>\n",
       "      <td>1.088174</td>\n",
       "      <td>-1.282196</td>\n",
       "      <td>-0.985478</td>\n",
       "    </tr>\n",
       "  </tbody>\n",
       "</table>\n",
       "</div>"
      ],
      "text/plain": [
       "                   A         B         C         D\n",
       "2013-01-01  1.753379 -0.392738  0.668950  0.499004\n",
       "2013-01-02  0.471725  1.066724  0.429891  2.585379\n",
       "2013-01-03  0.758044 -0.287077  0.092497 -1.147985\n",
       "2013-01-04 -0.691199  0.135198 -3.119589  2.372902\n",
       "2013-01-05 -1.668033  1.294660  0.778939  0.606872\n",
       "2013-01-06  0.236205  1.088174 -1.282196 -0.985478"
      ]
     },
     "execution_count": 11,
     "metadata": {},
     "output_type": "execute_result"
    }
   ],
   "source": [
    "df"
   ]
  },
  {
   "cell_type": "code",
   "execution_count": 12,
   "id": "24dba68a-9644-48dc-ab48-b091f999ead1",
   "metadata": {},
   "outputs": [],
   "source": [
    "df2=pd.DataFrame({'A':1.,\n",
    "                  'B':pd.Timestamp('20130102'),\n",
    "                  'C':pd.Series(1,index=list(range(4)),dtype='float32'),\n",
    "                  'D':np.array([3]*4,dtype='int32'),\n",
    "                  'E':pd.Categorical([\"test\",\"train\",\"test\",\"train\"]),\n",
    "                  'F':'foo'})"
   ]
  },
  {
   "cell_type": "code",
   "execution_count": 13,
   "id": "b1259e71-dad3-4cbe-8ccd-c94de55e6e5b",
   "metadata": {},
   "outputs": [
    {
     "data": {
      "text/html": [
       "<div>\n",
       "<style scoped>\n",
       "    .dataframe tbody tr th:only-of-type {\n",
       "        vertical-align: middle;\n",
       "    }\n",
       "\n",
       "    .dataframe tbody tr th {\n",
       "        vertical-align: top;\n",
       "    }\n",
       "\n",
       "    .dataframe thead th {\n",
       "        text-align: right;\n",
       "    }\n",
       "</style>\n",
       "<table border=\"1\" class=\"dataframe\">\n",
       "  <thead>\n",
       "    <tr style=\"text-align: right;\">\n",
       "      <th></th>\n",
       "      <th>A</th>\n",
       "      <th>B</th>\n",
       "      <th>C</th>\n",
       "      <th>D</th>\n",
       "      <th>E</th>\n",
       "      <th>F</th>\n",
       "    </tr>\n",
       "  </thead>\n",
       "  <tbody>\n",
       "    <tr>\n",
       "      <th>0</th>\n",
       "      <td>1.0</td>\n",
       "      <td>2013-01-02</td>\n",
       "      <td>1.0</td>\n",
       "      <td>3</td>\n",
       "      <td>test</td>\n",
       "      <td>foo</td>\n",
       "    </tr>\n",
       "    <tr>\n",
       "      <th>1</th>\n",
       "      <td>1.0</td>\n",
       "      <td>2013-01-02</td>\n",
       "      <td>1.0</td>\n",
       "      <td>3</td>\n",
       "      <td>train</td>\n",
       "      <td>foo</td>\n",
       "    </tr>\n",
       "    <tr>\n",
       "      <th>2</th>\n",
       "      <td>1.0</td>\n",
       "      <td>2013-01-02</td>\n",
       "      <td>1.0</td>\n",
       "      <td>3</td>\n",
       "      <td>test</td>\n",
       "      <td>foo</td>\n",
       "    </tr>\n",
       "    <tr>\n",
       "      <th>3</th>\n",
       "      <td>1.0</td>\n",
       "      <td>2013-01-02</td>\n",
       "      <td>1.0</td>\n",
       "      <td>3</td>\n",
       "      <td>train</td>\n",
       "      <td>foo</td>\n",
       "    </tr>\n",
       "  </tbody>\n",
       "</table>\n",
       "</div>"
      ],
      "text/plain": [
       "     A          B    C  D      E    F\n",
       "0  1.0 2013-01-02  1.0  3   test  foo\n",
       "1  1.0 2013-01-02  1.0  3  train  foo\n",
       "2  1.0 2013-01-02  1.0  3   test  foo\n",
       "3  1.0 2013-01-02  1.0  3  train  foo"
      ]
     },
     "execution_count": 13,
     "metadata": {},
     "output_type": "execute_result"
    }
   ],
   "source": [
    "df2"
   ]
  },
  {
   "cell_type": "code",
   "execution_count": 14,
   "id": "e2a25aca-6a4b-44f1-b603-d82c5cb1c906",
   "metadata": {},
   "outputs": [
    {
     "data": {
      "text/plain": [
       "A          float64\n",
       "B    datetime64[s]\n",
       "C          float32\n",
       "D            int32\n",
       "E         category\n",
       "F           object\n",
       "dtype: object"
      ]
     },
     "execution_count": 14,
     "metadata": {},
     "output_type": "execute_result"
    }
   ],
   "source": [
    "df2.dtypes"
   ]
  },
  {
   "cell_type": "code",
   "execution_count": 17,
   "id": "c8b3239f-3510-4185-98c1-0aea1de99c07",
   "metadata": {},
   "outputs": [
    {
     "data": {
      "text/html": [
       "<div>\n",
       "<style scoped>\n",
       "    .dataframe tbody tr th:only-of-type {\n",
       "        vertical-align: middle;\n",
       "    }\n",
       "\n",
       "    .dataframe tbody tr th {\n",
       "        vertical-align: top;\n",
       "    }\n",
       "\n",
       "    .dataframe thead th {\n",
       "        text-align: right;\n",
       "    }\n",
       "</style>\n",
       "<table border=\"1\" class=\"dataframe\">\n",
       "  <thead>\n",
       "    <tr style=\"text-align: right;\">\n",
       "      <th></th>\n",
       "      <th>A</th>\n",
       "      <th>B</th>\n",
       "      <th>C</th>\n",
       "      <th>D</th>\n",
       "    </tr>\n",
       "  </thead>\n",
       "  <tbody>\n",
       "    <tr>\n",
       "      <th>2013-01-01</th>\n",
       "      <td>1.753379</td>\n",
       "      <td>-0.392738</td>\n",
       "      <td>0.668950</td>\n",
       "      <td>0.499004</td>\n",
       "    </tr>\n",
       "    <tr>\n",
       "      <th>2013-01-02</th>\n",
       "      <td>0.471725</td>\n",
       "      <td>1.066724</td>\n",
       "      <td>0.429891</td>\n",
       "      <td>2.585379</td>\n",
       "    </tr>\n",
       "    <tr>\n",
       "      <th>2013-01-03</th>\n",
       "      <td>0.758044</td>\n",
       "      <td>-0.287077</td>\n",
       "      <td>0.092497</td>\n",
       "      <td>-1.147985</td>\n",
       "    </tr>\n",
       "    <tr>\n",
       "      <th>2013-01-04</th>\n",
       "      <td>-0.691199</td>\n",
       "      <td>0.135198</td>\n",
       "      <td>-3.119589</td>\n",
       "      <td>2.372902</td>\n",
       "    </tr>\n",
       "    <tr>\n",
       "      <th>2013-01-05</th>\n",
       "      <td>-1.668033</td>\n",
       "      <td>1.294660</td>\n",
       "      <td>0.778939</td>\n",
       "      <td>0.606872</td>\n",
       "    </tr>\n",
       "  </tbody>\n",
       "</table>\n",
       "</div>"
      ],
      "text/plain": [
       "                   A         B         C         D\n",
       "2013-01-01  1.753379 -0.392738  0.668950  0.499004\n",
       "2013-01-02  0.471725  1.066724  0.429891  2.585379\n",
       "2013-01-03  0.758044 -0.287077  0.092497 -1.147985\n",
       "2013-01-04 -0.691199  0.135198 -3.119589  2.372902\n",
       "2013-01-05 -1.668033  1.294660  0.778939  0.606872"
      ]
     },
     "execution_count": 17,
     "metadata": {},
     "output_type": "execute_result"
    }
   ],
   "source": [
    "df.head()"
   ]
  },
  {
   "cell_type": "code",
   "execution_count": 18,
   "id": "0d89fbaa-19d5-49b1-9056-8d0bcd0c3984",
   "metadata": {
    "editable": true,
    "slideshow": {
     "slide_type": ""
    },
    "tags": []
   },
   "outputs": [
    {
     "data": {
      "text/html": [
       "<div>\n",
       "<style scoped>\n",
       "    .dataframe tbody tr th:only-of-type {\n",
       "        vertical-align: middle;\n",
       "    }\n",
       "\n",
       "    .dataframe tbody tr th {\n",
       "        vertical-align: top;\n",
       "    }\n",
       "\n",
       "    .dataframe thead th {\n",
       "        text-align: right;\n",
       "    }\n",
       "</style>\n",
       "<table border=\"1\" class=\"dataframe\">\n",
       "  <thead>\n",
       "    <tr style=\"text-align: right;\">\n",
       "      <th></th>\n",
       "      <th>A</th>\n",
       "      <th>B</th>\n",
       "      <th>C</th>\n",
       "      <th>D</th>\n",
       "    </tr>\n",
       "  </thead>\n",
       "  <tbody>\n",
       "    <tr>\n",
       "      <th>2013-01-04</th>\n",
       "      <td>-0.691199</td>\n",
       "      <td>0.135198</td>\n",
       "      <td>-3.119589</td>\n",
       "      <td>2.372902</td>\n",
       "    </tr>\n",
       "    <tr>\n",
       "      <th>2013-01-05</th>\n",
       "      <td>-1.668033</td>\n",
       "      <td>1.294660</td>\n",
       "      <td>0.778939</td>\n",
       "      <td>0.606872</td>\n",
       "    </tr>\n",
       "    <tr>\n",
       "      <th>2013-01-06</th>\n",
       "      <td>0.236205</td>\n",
       "      <td>1.088174</td>\n",
       "      <td>-1.282196</td>\n",
       "      <td>-0.985478</td>\n",
       "    </tr>\n",
       "  </tbody>\n",
       "</table>\n",
       "</div>"
      ],
      "text/plain": [
       "                   A         B         C         D\n",
       "2013-01-04 -0.691199  0.135198 -3.119589  2.372902\n",
       "2013-01-05 -1.668033  1.294660  0.778939  0.606872\n",
       "2013-01-06  0.236205  1.088174 -1.282196 -0.985478"
      ]
     },
     "execution_count": 18,
     "metadata": {},
     "output_type": "execute_result"
    }
   ],
   "source": [
    "df.tail(3)"
   ]
  },
  {
   "cell_type": "code",
   "execution_count": 20,
   "id": "b7d931e0-e58e-4a1e-be4c-619005127fc5",
   "metadata": {},
   "outputs": [
    {
     "data": {
      "text/plain": [
       "DatetimeIndex(['2013-01-01', '2013-01-02', '2013-01-03', '2013-01-04',\n",
       "               '2013-01-05', '2013-01-06'],\n",
       "              dtype='datetime64[ns]', freq='D')"
      ]
     },
     "execution_count": 20,
     "metadata": {},
     "output_type": "execute_result"
    }
   ],
   "source": [
    "df.index"
   ]
  },
  {
   "cell_type": "code",
   "execution_count": 21,
   "id": "406fd710-e7c4-4679-8fb9-f7e428e0c67b",
   "metadata": {},
   "outputs": [
    {
     "data": {
      "text/plain": [
       "Index(['A', 'B', 'C', 'D'], dtype='object')"
      ]
     },
     "execution_count": 21,
     "metadata": {},
     "output_type": "execute_result"
    }
   ],
   "source": [
    "df.columns"
   ]
  },
  {
   "cell_type": "code",
   "execution_count": 22,
   "id": "d6de1ec0-1ed3-476e-ac5e-9f68eedb3d3a",
   "metadata": {},
   "outputs": [
    {
     "data": {
      "text/plain": [
       "array([[ 1.75337908, -0.3927385 ,  0.6689498 ,  0.49900418],\n",
       "       [ 0.47172459,  1.0667242 ,  0.4298907 ,  2.58537917],\n",
       "       [ 0.75804426, -0.28707683,  0.0924969 , -1.14798499],\n",
       "       [-0.69119882,  0.13519829, -3.11958855,  2.37290152],\n",
       "       [-1.66803254,  1.29466021,  0.77893936,  0.60687157],\n",
       "       [ 0.23620471,  1.08817354, -1.28219602, -0.98547773]])"
      ]
     },
     "execution_count": 22,
     "metadata": {},
     "output_type": "execute_result"
    }
   ],
   "source": [
    "df.to_numpy()"
   ]
  },
  {
   "cell_type": "code",
   "execution_count": 23,
   "id": "e61f2407-f260-4594-8680-f9b9e003f9ef",
   "metadata": {},
   "outputs": [
    {
     "data": {
      "text/plain": [
       "array([[1.0, Timestamp('2013-01-02 00:00:00'), 1.0, 3, 'test', 'foo'],\n",
       "       [1.0, Timestamp('2013-01-02 00:00:00'), 1.0, 3, 'train', 'foo'],\n",
       "       [1.0, Timestamp('2013-01-02 00:00:00'), 1.0, 3, 'test', 'foo'],\n",
       "       [1.0, Timestamp('2013-01-02 00:00:00'), 1.0, 3, 'train', 'foo']],\n",
       "      dtype=object)"
      ]
     },
     "execution_count": 23,
     "metadata": {},
     "output_type": "execute_result"
    }
   ],
   "source": [
    "df2.to_numpy()"
   ]
  },
  {
   "cell_type": "code",
   "execution_count": 24,
   "id": "cfaec39e-0040-4c18-9ccc-f7d5dd108e4f",
   "metadata": {},
   "outputs": [
    {
     "data": {
      "text/html": [
       "<div>\n",
       "<style scoped>\n",
       "    .dataframe tbody tr th:only-of-type {\n",
       "        vertical-align: middle;\n",
       "    }\n",
       "\n",
       "    .dataframe tbody tr th {\n",
       "        vertical-align: top;\n",
       "    }\n",
       "\n",
       "    .dataframe thead th {\n",
       "        text-align: right;\n",
       "    }\n",
       "</style>\n",
       "<table border=\"1\" class=\"dataframe\">\n",
       "  <thead>\n",
       "    <tr style=\"text-align: right;\">\n",
       "      <th></th>\n",
       "      <th>A</th>\n",
       "      <th>B</th>\n",
       "      <th>C</th>\n",
       "      <th>D</th>\n",
       "    </tr>\n",
       "  </thead>\n",
       "  <tbody>\n",
       "    <tr>\n",
       "      <th>count</th>\n",
       "      <td>6.000000</td>\n",
       "      <td>6.000000</td>\n",
       "      <td>6.000000</td>\n",
       "      <td>6.000000</td>\n",
       "    </tr>\n",
       "    <tr>\n",
       "      <th>mean</th>\n",
       "      <td>0.143354</td>\n",
       "      <td>0.484157</td>\n",
       "      <td>-0.405251</td>\n",
       "      <td>0.655116</td>\n",
       "    </tr>\n",
       "    <tr>\n",
       "      <th>std</th>\n",
       "      <td>1.188619</td>\n",
       "      <td>0.754540</td>\n",
       "      <td>1.525653</td>\n",
       "      <td>1.590354</td>\n",
       "    </tr>\n",
       "    <tr>\n",
       "      <th>min</th>\n",
       "      <td>-1.668033</td>\n",
       "      <td>-0.392738</td>\n",
       "      <td>-3.119589</td>\n",
       "      <td>-1.147985</td>\n",
       "    </tr>\n",
       "    <tr>\n",
       "      <th>25%</th>\n",
       "      <td>-0.459348</td>\n",
       "      <td>-0.181508</td>\n",
       "      <td>-0.938523</td>\n",
       "      <td>-0.614357</td>\n",
       "    </tr>\n",
       "    <tr>\n",
       "      <th>50%</th>\n",
       "      <td>0.353965</td>\n",
       "      <td>0.600961</td>\n",
       "      <td>0.261194</td>\n",
       "      <td>0.552938</td>\n",
       "    </tr>\n",
       "    <tr>\n",
       "      <th>75%</th>\n",
       "      <td>0.686464</td>\n",
       "      <td>1.082811</td>\n",
       "      <td>0.609185</td>\n",
       "      <td>1.931394</td>\n",
       "    </tr>\n",
       "    <tr>\n",
       "      <th>max</th>\n",
       "      <td>1.753379</td>\n",
       "      <td>1.294660</td>\n",
       "      <td>0.778939</td>\n",
       "      <td>2.585379</td>\n",
       "    </tr>\n",
       "  </tbody>\n",
       "</table>\n",
       "</div>"
      ],
      "text/plain": [
       "              A         B         C         D\n",
       "count  6.000000  6.000000  6.000000  6.000000\n",
       "mean   0.143354  0.484157 -0.405251  0.655116\n",
       "std    1.188619  0.754540  1.525653  1.590354\n",
       "min   -1.668033 -0.392738 -3.119589 -1.147985\n",
       "25%   -0.459348 -0.181508 -0.938523 -0.614357\n",
       "50%    0.353965  0.600961  0.261194  0.552938\n",
       "75%    0.686464  1.082811  0.609185  1.931394\n",
       "max    1.753379  1.294660  0.778939  2.585379"
      ]
     },
     "execution_count": 24,
     "metadata": {},
     "output_type": "execute_result"
    }
   ],
   "source": [
    "df.describe()"
   ]
  },
  {
   "cell_type": "code",
   "execution_count": 25,
   "id": "b33e8a56-90ab-4852-8d20-febc55be753b",
   "metadata": {},
   "outputs": [
    {
     "data": {
      "text/html": [
       "<div>\n",
       "<style scoped>\n",
       "    .dataframe tbody tr th:only-of-type {\n",
       "        vertical-align: middle;\n",
       "    }\n",
       "\n",
       "    .dataframe tbody tr th {\n",
       "        vertical-align: top;\n",
       "    }\n",
       "\n",
       "    .dataframe thead th {\n",
       "        text-align: right;\n",
       "    }\n",
       "</style>\n",
       "<table border=\"1\" class=\"dataframe\">\n",
       "  <thead>\n",
       "    <tr style=\"text-align: right;\">\n",
       "      <th></th>\n",
       "      <th>2013-01-01</th>\n",
       "      <th>2013-01-02</th>\n",
       "      <th>2013-01-03</th>\n",
       "      <th>2013-01-04</th>\n",
       "      <th>2013-01-05</th>\n",
       "      <th>2013-01-06</th>\n",
       "    </tr>\n",
       "  </thead>\n",
       "  <tbody>\n",
       "    <tr>\n",
       "      <th>A</th>\n",
       "      <td>1.753379</td>\n",
       "      <td>0.471725</td>\n",
       "      <td>0.758044</td>\n",
       "      <td>-0.691199</td>\n",
       "      <td>-1.668033</td>\n",
       "      <td>0.236205</td>\n",
       "    </tr>\n",
       "    <tr>\n",
       "      <th>B</th>\n",
       "      <td>-0.392738</td>\n",
       "      <td>1.066724</td>\n",
       "      <td>-0.287077</td>\n",
       "      <td>0.135198</td>\n",
       "      <td>1.294660</td>\n",
       "      <td>1.088174</td>\n",
       "    </tr>\n",
       "    <tr>\n",
       "      <th>C</th>\n",
       "      <td>0.668950</td>\n",
       "      <td>0.429891</td>\n",
       "      <td>0.092497</td>\n",
       "      <td>-3.119589</td>\n",
       "      <td>0.778939</td>\n",
       "      <td>-1.282196</td>\n",
       "    </tr>\n",
       "    <tr>\n",
       "      <th>D</th>\n",
       "      <td>0.499004</td>\n",
       "      <td>2.585379</td>\n",
       "      <td>-1.147985</td>\n",
       "      <td>2.372902</td>\n",
       "      <td>0.606872</td>\n",
       "      <td>-0.985478</td>\n",
       "    </tr>\n",
       "  </tbody>\n",
       "</table>\n",
       "</div>"
      ],
      "text/plain": [
       "   2013-01-01  2013-01-02  2013-01-03  2013-01-04  2013-01-05  2013-01-06\n",
       "A    1.753379    0.471725    0.758044   -0.691199   -1.668033    0.236205\n",
       "B   -0.392738    1.066724   -0.287077    0.135198    1.294660    1.088174\n",
       "C    0.668950    0.429891    0.092497   -3.119589    0.778939   -1.282196\n",
       "D    0.499004    2.585379   -1.147985    2.372902    0.606872   -0.985478"
      ]
     },
     "execution_count": 25,
     "metadata": {},
     "output_type": "execute_result"
    }
   ],
   "source": [
    "df.T"
   ]
  },
  {
   "cell_type": "code",
   "execution_count": 26,
   "id": "be001a90-eb3e-4e37-9920-157d2de9c63c",
   "metadata": {},
   "outputs": [
    {
     "data": {
      "text/html": [
       "<div>\n",
       "<style scoped>\n",
       "    .dataframe tbody tr th:only-of-type {\n",
       "        vertical-align: middle;\n",
       "    }\n",
       "\n",
       "    .dataframe tbody tr th {\n",
       "        vertical-align: top;\n",
       "    }\n",
       "\n",
       "    .dataframe thead th {\n",
       "        text-align: right;\n",
       "    }\n",
       "</style>\n",
       "<table border=\"1\" class=\"dataframe\">\n",
       "  <thead>\n",
       "    <tr style=\"text-align: right;\">\n",
       "      <th></th>\n",
       "      <th>D</th>\n",
       "      <th>C</th>\n",
       "      <th>B</th>\n",
       "      <th>A</th>\n",
       "    </tr>\n",
       "  </thead>\n",
       "  <tbody>\n",
       "    <tr>\n",
       "      <th>2013-01-01</th>\n",
       "      <td>0.499004</td>\n",
       "      <td>0.668950</td>\n",
       "      <td>-0.392738</td>\n",
       "      <td>1.753379</td>\n",
       "    </tr>\n",
       "    <tr>\n",
       "      <th>2013-01-02</th>\n",
       "      <td>2.585379</td>\n",
       "      <td>0.429891</td>\n",
       "      <td>1.066724</td>\n",
       "      <td>0.471725</td>\n",
       "    </tr>\n",
       "    <tr>\n",
       "      <th>2013-01-03</th>\n",
       "      <td>-1.147985</td>\n",
       "      <td>0.092497</td>\n",
       "      <td>-0.287077</td>\n",
       "      <td>0.758044</td>\n",
       "    </tr>\n",
       "    <tr>\n",
       "      <th>2013-01-04</th>\n",
       "      <td>2.372902</td>\n",
       "      <td>-3.119589</td>\n",
       "      <td>0.135198</td>\n",
       "      <td>-0.691199</td>\n",
       "    </tr>\n",
       "    <tr>\n",
       "      <th>2013-01-05</th>\n",
       "      <td>0.606872</td>\n",
       "      <td>0.778939</td>\n",
       "      <td>1.294660</td>\n",
       "      <td>-1.668033</td>\n",
       "    </tr>\n",
       "    <tr>\n",
       "      <th>2013-01-06</th>\n",
       "      <td>-0.985478</td>\n",
       "      <td>-1.282196</td>\n",
       "      <td>1.088174</td>\n",
       "      <td>0.236205</td>\n",
       "    </tr>\n",
       "  </tbody>\n",
       "</table>\n",
       "</div>"
      ],
      "text/plain": [
       "                   D         C         B         A\n",
       "2013-01-01  0.499004  0.668950 -0.392738  1.753379\n",
       "2013-01-02  2.585379  0.429891  1.066724  0.471725\n",
       "2013-01-03 -1.147985  0.092497 -0.287077  0.758044\n",
       "2013-01-04  2.372902 -3.119589  0.135198 -0.691199\n",
       "2013-01-05  0.606872  0.778939  1.294660 -1.668033\n",
       "2013-01-06 -0.985478 -1.282196  1.088174  0.236205"
      ]
     },
     "execution_count": 26,
     "metadata": {},
     "output_type": "execute_result"
    }
   ],
   "source": [
    "df.sort_index(axis=1,ascending=False)"
   ]
  },
  {
   "cell_type": "code",
   "execution_count": 27,
   "id": "c74dbab3-5586-440e-8821-d178f46bcf69",
   "metadata": {},
   "outputs": [
    {
     "data": {
      "text/html": [
       "<div>\n",
       "<style scoped>\n",
       "    .dataframe tbody tr th:only-of-type {\n",
       "        vertical-align: middle;\n",
       "    }\n",
       "\n",
       "    .dataframe tbody tr th {\n",
       "        vertical-align: top;\n",
       "    }\n",
       "\n",
       "    .dataframe thead th {\n",
       "        text-align: right;\n",
       "    }\n",
       "</style>\n",
       "<table border=\"1\" class=\"dataframe\">\n",
       "  <thead>\n",
       "    <tr style=\"text-align: right;\">\n",
       "      <th></th>\n",
       "      <th>A</th>\n",
       "      <th>B</th>\n",
       "      <th>C</th>\n",
       "      <th>D</th>\n",
       "    </tr>\n",
       "  </thead>\n",
       "  <tbody>\n",
       "    <tr>\n",
       "      <th>2013-01-01</th>\n",
       "      <td>1.753379</td>\n",
       "      <td>-0.392738</td>\n",
       "      <td>0.668950</td>\n",
       "      <td>0.499004</td>\n",
       "    </tr>\n",
       "    <tr>\n",
       "      <th>2013-01-03</th>\n",
       "      <td>0.758044</td>\n",
       "      <td>-0.287077</td>\n",
       "      <td>0.092497</td>\n",
       "      <td>-1.147985</td>\n",
       "    </tr>\n",
       "    <tr>\n",
       "      <th>2013-01-04</th>\n",
       "      <td>-0.691199</td>\n",
       "      <td>0.135198</td>\n",
       "      <td>-3.119589</td>\n",
       "      <td>2.372902</td>\n",
       "    </tr>\n",
       "    <tr>\n",
       "      <th>2013-01-02</th>\n",
       "      <td>0.471725</td>\n",
       "      <td>1.066724</td>\n",
       "      <td>0.429891</td>\n",
       "      <td>2.585379</td>\n",
       "    </tr>\n",
       "    <tr>\n",
       "      <th>2013-01-06</th>\n",
       "      <td>0.236205</td>\n",
       "      <td>1.088174</td>\n",
       "      <td>-1.282196</td>\n",
       "      <td>-0.985478</td>\n",
       "    </tr>\n",
       "    <tr>\n",
       "      <th>2013-01-05</th>\n",
       "      <td>-1.668033</td>\n",
       "      <td>1.294660</td>\n",
       "      <td>0.778939</td>\n",
       "      <td>0.606872</td>\n",
       "    </tr>\n",
       "  </tbody>\n",
       "</table>\n",
       "</div>"
      ],
      "text/plain": [
       "                   A         B         C         D\n",
       "2013-01-01  1.753379 -0.392738  0.668950  0.499004\n",
       "2013-01-03  0.758044 -0.287077  0.092497 -1.147985\n",
       "2013-01-04 -0.691199  0.135198 -3.119589  2.372902\n",
       "2013-01-02  0.471725  1.066724  0.429891  2.585379\n",
       "2013-01-06  0.236205  1.088174 -1.282196 -0.985478\n",
       "2013-01-05 -1.668033  1.294660  0.778939  0.606872"
      ]
     },
     "execution_count": 27,
     "metadata": {},
     "output_type": "execute_result"
    }
   ],
   "source": [
    "df.sort_values(by='B')"
   ]
  },
  {
   "cell_type": "code",
   "execution_count": 28,
   "id": "382ad9ee-cdcd-46d9-a347-632344e5fe46",
   "metadata": {},
   "outputs": [
    {
     "data": {
      "text/plain": [
       "2013-01-01    1.753379\n",
       "2013-01-02    0.471725\n",
       "2013-01-03    0.758044\n",
       "2013-01-04   -0.691199\n",
       "2013-01-05   -1.668033\n",
       "2013-01-06    0.236205\n",
       "Freq: D, Name: A, dtype: float64"
      ]
     },
     "execution_count": 28,
     "metadata": {},
     "output_type": "execute_result"
    }
   ],
   "source": [
    "df['A']"
   ]
  },
  {
   "cell_type": "code",
   "execution_count": 29,
   "id": "a3858921-7370-4dbc-9ea7-a93442194d70",
   "metadata": {},
   "outputs": [
    {
     "data": {
      "text/html": [
       "<div>\n",
       "<style scoped>\n",
       "    .dataframe tbody tr th:only-of-type {\n",
       "        vertical-align: middle;\n",
       "    }\n",
       "\n",
       "    .dataframe tbody tr th {\n",
       "        vertical-align: top;\n",
       "    }\n",
       "\n",
       "    .dataframe thead th {\n",
       "        text-align: right;\n",
       "    }\n",
       "</style>\n",
       "<table border=\"1\" class=\"dataframe\">\n",
       "  <thead>\n",
       "    <tr style=\"text-align: right;\">\n",
       "      <th></th>\n",
       "      <th>A</th>\n",
       "      <th>B</th>\n",
       "      <th>C</th>\n",
       "      <th>D</th>\n",
       "    </tr>\n",
       "  </thead>\n",
       "  <tbody>\n",
       "    <tr>\n",
       "      <th>2013-01-01</th>\n",
       "      <td>1.753379</td>\n",
       "      <td>-0.392738</td>\n",
       "      <td>0.668950</td>\n",
       "      <td>0.499004</td>\n",
       "    </tr>\n",
       "    <tr>\n",
       "      <th>2013-01-02</th>\n",
       "      <td>0.471725</td>\n",
       "      <td>1.066724</td>\n",
       "      <td>0.429891</td>\n",
       "      <td>2.585379</td>\n",
       "    </tr>\n",
       "    <tr>\n",
       "      <th>2013-01-03</th>\n",
       "      <td>0.758044</td>\n",
       "      <td>-0.287077</td>\n",
       "      <td>0.092497</td>\n",
       "      <td>-1.147985</td>\n",
       "    </tr>\n",
       "  </tbody>\n",
       "</table>\n",
       "</div>"
      ],
      "text/plain": [
       "                   A         B         C         D\n",
       "2013-01-01  1.753379 -0.392738  0.668950  0.499004\n",
       "2013-01-02  0.471725  1.066724  0.429891  2.585379\n",
       "2013-01-03  0.758044 -0.287077  0.092497 -1.147985"
      ]
     },
     "execution_count": 29,
     "metadata": {},
     "output_type": "execute_result"
    }
   ],
   "source": [
    "df[0:3]"
   ]
  },
  {
   "cell_type": "code",
   "execution_count": 30,
   "id": "4e9066b8-372b-4cf2-a734-cd47792a4a28",
   "metadata": {},
   "outputs": [
    {
     "data": {
      "text/plain": [
       "A    1.753379\n",
       "B   -0.392738\n",
       "C    0.668950\n",
       "D    0.499004\n",
       "Name: 2013-01-01 00:00:00, dtype: float64"
      ]
     },
     "execution_count": 30,
     "metadata": {},
     "output_type": "execute_result"
    }
   ],
   "source": [
    "df.loc[dates[0]]"
   ]
  },
  {
   "cell_type": "code",
   "execution_count": 31,
   "id": "18688cd1-261d-410e-a1df-f3b8eaf3419c",
   "metadata": {},
   "outputs": [
    {
     "data": {
      "text/html": [
       "<div>\n",
       "<style scoped>\n",
       "    .dataframe tbody tr th:only-of-type {\n",
       "        vertical-align: middle;\n",
       "    }\n",
       "\n",
       "    .dataframe tbody tr th {\n",
       "        vertical-align: top;\n",
       "    }\n",
       "\n",
       "    .dataframe thead th {\n",
       "        text-align: right;\n",
       "    }\n",
       "</style>\n",
       "<table border=\"1\" class=\"dataframe\">\n",
       "  <thead>\n",
       "    <tr style=\"text-align: right;\">\n",
       "      <th></th>\n",
       "      <th>A</th>\n",
       "      <th>B</th>\n",
       "    </tr>\n",
       "  </thead>\n",
       "  <tbody>\n",
       "    <tr>\n",
       "      <th>2013-01-01</th>\n",
       "      <td>1.753379</td>\n",
       "      <td>-0.392738</td>\n",
       "    </tr>\n",
       "    <tr>\n",
       "      <th>2013-01-02</th>\n",
       "      <td>0.471725</td>\n",
       "      <td>1.066724</td>\n",
       "    </tr>\n",
       "    <tr>\n",
       "      <th>2013-01-03</th>\n",
       "      <td>0.758044</td>\n",
       "      <td>-0.287077</td>\n",
       "    </tr>\n",
       "    <tr>\n",
       "      <th>2013-01-04</th>\n",
       "      <td>-0.691199</td>\n",
       "      <td>0.135198</td>\n",
       "    </tr>\n",
       "    <tr>\n",
       "      <th>2013-01-05</th>\n",
       "      <td>-1.668033</td>\n",
       "      <td>1.294660</td>\n",
       "    </tr>\n",
       "    <tr>\n",
       "      <th>2013-01-06</th>\n",
       "      <td>0.236205</td>\n",
       "      <td>1.088174</td>\n",
       "    </tr>\n",
       "  </tbody>\n",
       "</table>\n",
       "</div>"
      ],
      "text/plain": [
       "                   A         B\n",
       "2013-01-01  1.753379 -0.392738\n",
       "2013-01-02  0.471725  1.066724\n",
       "2013-01-03  0.758044 -0.287077\n",
       "2013-01-04 -0.691199  0.135198\n",
       "2013-01-05 -1.668033  1.294660\n",
       "2013-01-06  0.236205  1.088174"
      ]
     },
     "execution_count": 31,
     "metadata": {},
     "output_type": "execute_result"
    }
   ],
   "source": [
    "df.loc[:,['A','B']]"
   ]
  },
  {
   "cell_type": "code",
   "execution_count": 32,
   "id": "8d8d68cd-a5d9-4675-8aac-de5abf0138c9",
   "metadata": {},
   "outputs": [
    {
     "data": {
      "text/html": [
       "<div>\n",
       "<style scoped>\n",
       "    .dataframe tbody tr th:only-of-type {\n",
       "        vertical-align: middle;\n",
       "    }\n",
       "\n",
       "    .dataframe tbody tr th {\n",
       "        vertical-align: top;\n",
       "    }\n",
       "\n",
       "    .dataframe thead th {\n",
       "        text-align: right;\n",
       "    }\n",
       "</style>\n",
       "<table border=\"1\" class=\"dataframe\">\n",
       "  <thead>\n",
       "    <tr style=\"text-align: right;\">\n",
       "      <th></th>\n",
       "      <th>A</th>\n",
       "      <th>B</th>\n",
       "    </tr>\n",
       "  </thead>\n",
       "  <tbody>\n",
       "    <tr>\n",
       "      <th>2013-01-02</th>\n",
       "      <td>0.471725</td>\n",
       "      <td>1.066724</td>\n",
       "    </tr>\n",
       "    <tr>\n",
       "      <th>2013-01-03</th>\n",
       "      <td>0.758044</td>\n",
       "      <td>-0.287077</td>\n",
       "    </tr>\n",
       "    <tr>\n",
       "      <th>2013-01-04</th>\n",
       "      <td>-0.691199</td>\n",
       "      <td>0.135198</td>\n",
       "    </tr>\n",
       "  </tbody>\n",
       "</table>\n",
       "</div>"
      ],
      "text/plain": [
       "                   A         B\n",
       "2013-01-02  0.471725  1.066724\n",
       "2013-01-03  0.758044 -0.287077\n",
       "2013-01-04 -0.691199  0.135198"
      ]
     },
     "execution_count": 32,
     "metadata": {},
     "output_type": "execute_result"
    }
   ],
   "source": [
    "df.loc['20130102':'20130104',['A','B']]"
   ]
  },
  {
   "cell_type": "code",
   "execution_count": 33,
   "id": "03377386-bce5-43f1-ac98-84d611da0f80",
   "metadata": {},
   "outputs": [],
   "source": [
    "df.to_csv('foo.csv')"
   ]
  },
  {
   "cell_type": "markdown",
   "id": "93a376b9-6e92-476d-a98e-03ca2d90613e",
   "metadata": {
    "editable": true,
    "slideshow": {
     "slide_type": ""
    },
    "tags": []
   },
   "source": [
    "df2.to_csv('df2.csv')"
   ]
  },
  {
   "cell_type": "code",
   "execution_count": null,
   "id": "ce8f3f13-6626-4ec3-8598-664957ce225a",
   "metadata": {},
   "outputs": [],
   "source": [
    "### pandas 练习  需到时候用到再查文档"
   ]
  },
  {
   "cell_type": "code",
   "execution_count": null,
   "id": "aacffacf-974c-4f01-8b3b-b513fd622dcd",
   "metadata": {},
   "outputs": [],
   "source": []
  }
 ],
 "metadata": {
  "kernelspec": {
   "display_name": "Python 3 (ipykernel)",
   "language": "python",
   "name": "python3"
  },
  "language_info": {
   "codemirror_mode": {
    "name": "ipython",
    "version": 3
   },
   "file_extension": ".py",
   "mimetype": "text/x-python",
   "name": "python",
   "nbconvert_exporter": "python",
   "pygments_lexer": "ipython3",
   "version": "3.11.9"
  }
 },
 "nbformat": 4,
 "nbformat_minor": 5
}
