{
 "cells": [
  {
   "cell_type": "code",
   "execution_count": 14,
   "metadata": {},
   "outputs": [],
   "source": [
    "import pandas as pd\n",
    "import plotly.graph_objects as go\n",
    "from  binance.client import  Client"
   ]
  },
  {
   "cell_type": "code",
   "execution_count": 15,
   "metadata": {},
   "outputs": [],
   "source": [
    "client=Client('','')\n",
    "start_time=\"2024-08-01 00:00:00\"\n",
    "end_time=\"2024-09-01 00:00:00\"\n",
    "candles=client.get_historical_klines('BTCUSDT',Client.KLINE_INTERVAL_4HOUR,start_time,end_time,1500)\n",
    "# 转换为DataFrame\n",
    "df = pd.DataFrame(candles, columns=['timestamp', 'open', 'high', 'low', 'close', 'volume', 'close_time', 'quote_asset_volume', 'number_of_trades', 'taker_buy_base_asset_volume', 'taker_buy_quote_asset_volume', 'ignore'])\n",
    "# 只保留需要的列\n",
    "df = df[['timestamp', 'open', 'high', 'low', 'close', 'volume']]\n",
    "\n",
    "# 将时间戳转换为可读时间\n",
    "df['timestamp'] = pd.to_datetime(df['timestamp'], unit='ms')\n",
    "df['open']=df['open'].astype(float)\n",
    "df['high']=df['high'].astype(float)\n",
    "df['low']=df['low'].astype(float)\n",
    "df['close']=df['close'].astype(float)\n",
    "df['volume']=df['volume'].astype(float)"
   ]
  },
  {
   "cell_type": "code",
   "execution_count": 16,
   "metadata": {},
   "outputs": [],
   "source": [
    "df.to_csv('2408-2409_4h.csv')"
   ]
  },
  {
   "cell_type": "code",
   "execution_count": null,
   "metadata": {},
   "outputs": [],
   "source": []
  }
 ],
 "metadata": {
  "kernelspec": {
   "display_name": "Python 3",
   "language": "python",
   "name": "python3"
  },
  "language_info": {
   "codemirror_mode": {
    "name": "ipython",
    "version": 3
   },
   "file_extension": ".py",
   "mimetype": "text/x-python",
   "name": "python",
   "nbconvert_exporter": "python",
   "pygments_lexer": "ipython3",
   "version": "3.11.9"
  }
 },
 "nbformat": 4,
 "nbformat_minor": 2
}
